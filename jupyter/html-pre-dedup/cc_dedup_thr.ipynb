{
 "cells": [
  {
   "cell_type": "code",
   "execution_count": null,
   "id": "6a86ea9b-beca-4324-b101-5684b3ed0955",
   "metadata": {
    "execution": {
     "iopub.execute_input": "2025-04-25T10:30:19.574024Z",
     "iopub.status.busy": "2025-04-25T10:30:19.573692Z",
     "iopub.status.idle": "2025-04-25T10:30:31.101849Z",
     "shell.execute_reply": "2025-04-25T10:30:31.101215Z",
     "shell.execute_reply.started": "2025-04-25T10:30:19.574004Z"
    }
   },
   "outputs": [],
   "source": [
    "from pyspark.sql import Row\n",
    "from xinghe.spark import *\n",
    "from app.common.json_util import *\n",
    "from xinghe.s3 import *\n",
    "\n",
    "config = {\n",
    "    \"spark_conf_name\": \"spark_4\",\n",
    "    \"skip_success_check\": True,\n",
    "}\n",
    "\n",
    "from pyspark.sql.functions import from_json\n",
    "from pyspark.sql.types import StructType, StructField, StringType\n",
    "import zlib\n",
    "import base64\n",
    "from typing import Union\n",
    "\n",
    "MAX_OUTPUT_ROW_SIZE = 1024 * 1024 * 1024 * 1.5\n",
    "DUMPS = [\n",
    "    ...\n",
    "]\n",
    "CC_WARC = 's3://xx/'\n",
    "base_unique_path = \"s3://xxx/\"\n",
    "output_path = \"s3://xxx/\"\n",
    "\n",
    "spark = new_spark_session(\"cc_dumps.dedup.thr\", config)\n",
    "sc = spark.sparkContext"
   ]
  },
  {
   "cell_type": "code",
   "execution_count": null,
   "id": "1e87f6d1-8559-4f75-a2e3-cbb549bffcda",
   "metadata": {
    "execution": {
     "iopub.execute_input": "2025-04-25T10:30:31.110540Z",
     "iopub.status.busy": "2025-04-25T10:30:31.110404Z",
     "iopub.status.idle": "2025-04-25T10:30:31.127547Z",
     "shell.execute_reply": "2025-04-25T10:30:31.127075Z",
     "shell.execute_reply.started": "2025-04-25T10:30:31.110528Z"
    }
   },
   "outputs": [],
   "source": [
    "def compress_and_decompress_str(input_data: Union[str, bytes], compress: bool = True, base: bool = False) -> Union[str, bytes]:\n",
    "    try:\n",
    "        if compress:\n",
    "            # 确保输入是字节串\n",
    "            if isinstance(input_data, str):\n",
    "                input_bytes = input_data.encode('utf-8')\n",
    "            elif isinstance(input_data, bytes):\n",
    "                input_bytes = input_data\n",
    "            else:\n",
    "                raise TypeError(\"Input must be a string or bytes object.\")\n",
    "\n",
    "            if base:\n",
    "                # 压缩并转换为Base64字符串\n",
    "                compressed_bytes = zlib.compress(input_bytes)\n",
    "                return base64.b64encode(compressed_bytes).decode('utf-8')\n",
    "            else:\n",
    "                return zlib.compress(input_bytes)\n",
    "                \n",
    "        else:\n",
    "            # 解码Base64字符串并解压缩\n",
    "            if isinstance(input_data, str):\n",
    "                compressed_bytes = base64.b64decode(input_data)\n",
    "            elif isinstance(input_data, bytearray):\n",
    "                compressed_bytes = bytes(input_data)\n",
    "            elif isinstance(input_data, bytes):\n",
    "                compressed_bytes = input_data\n",
    "            else:\n",
    "                raise TypeError(\"Input must be a Base64 encoded string or bytes object.\")\n",
    "\n",
    "            decompressed_bytes = zlib.decompress(compressed_bytes)\n",
    "            return decompressed_bytes.decode('utf-8')  # 假设原始数据是UTF-8编码的字符串\n",
    "\n",
    "    except (zlib.error, base64.binascii.Error, UnicodeDecodeError) as e:\n",
    "        raise ValueError(f\"Error during compression/decompression: {e}\")\n",
    "\n"
   ]
  },
  {
   "cell_type": "markdown",
   "id": "d61f7baa-669f-43ed-8597-dbe17ffb6e6f",
   "metadata": {},
   "source": [
    "# html source"
   ]
  },
  {
   "cell_type": "code",
   "execution_count": null,
   "id": "c593add8-6678-43ae-9bca-8fae5d5d70a3",
   "metadata": {
    "execution": {
     "execution_failed": "2025-04-25T10:32:44.641Z",
     "iopub.execute_input": "2025-04-25T10:30:31.128562Z",
     "iopub.status.busy": "2025-04-25T10:30:31.128423Z"
    }
   },
   "outputs": [],
   "source": [
    "warc_paths = []\n",
    "for dump in DUMPS:\n",
    "    dump_path = f'{CC_WARC}{dump}/'\n",
    "    warc_paths.extend([x for x in list(list_s3_objects(dump_path, recursive=True)) if \"/warc/\" in x])\n"
   ]
  },
  {
   "cell_type": "code",
   "execution_count": null,
   "id": "8f77e0d6-2704-4a8b-8437-7b8efc17bfad",
   "metadata": {
    "execution": {
     "execution_failed": "2025-04-25T10:32:44.641Z"
    }
   },
   "outputs": [],
   "source": [
    "def parse_path_to_html(iter):\n",
    "    for fpath in iter:\n",
    "        for zz in read_s3_rows(fpath):\n",
    "            try:\n",
    "                detail_datas = json_loads(zz.value)\n",
    "            except:\n",
    "                continue\n",
    "            filename = zz.loc\n",
    "            if detail_datas.get(\"html\", \"\"):\n",
    "                detail_datas[\"raw_warc_path\"] = filename\n",
    "                fpath_path = fpath.split('/')\n",
    "                detail_datas[\"sub_path\"] = f\"{fpath_path[4]}/{fpath_path[-1].replace('.warc.gz', '')}\"\n",
    "                yield Row(**{\"value\": json_dumps(detail_datas), \"track_id\": detail_datas[\"track_id\"]})"
   ]
  },
  {
   "cell_type": "code",
   "execution_count": null,
   "id": "67a264ce-7aff-4c1b-bed0-441b8fe776c2",
   "metadata": {
    "execution": {
     "execution_failed": "2025-04-25T10:32:44.641Z"
    }
   },
   "outputs": [],
   "source": [
    "html_schema = StructType([\n",
    "    StructField(\"track_id\", StringType(), True),\n",
    "    StructField(\"value\", StringType(), True),\n",
    "])\n",
    "page_content = sc.parallelize(warc_paths, len(warc_paths))\n",
    "dump_html_df = page_content.mapPartitions(parse_path_to_html).toDF(html_schema)"
   ]
  },
  {
   "cell_type": "markdown",
   "id": "03cdc3be-02f9-4790-af49-393b56f7818d",
   "metadata": {
    "execution": {
     "iopub.execute_input": "2024-12-17T02:52:53.668493Z",
     "iopub.status.busy": "2024-12-17T02:52:53.668115Z",
     "iopub.status.idle": "2024-12-17T02:52:53.727246Z",
     "shell.execute_reply": "2024-12-17T02:52:53.726736Z",
     "shell.execute_reply.started": "2024-12-17T02:52:53.668472Z"
    },
    "scrolled": true
   },
   "source": [
    "# unique id"
   ]
  },
  {
   "cell_type": "code",
   "execution_count": null,
   "id": "a9e9ff32-9770-4af0-97fc-f73d4a9e36f6",
   "metadata": {
    "execution": {
     "execution_failed": "2025-04-25T10:32:44.641Z"
    }
   },
   "outputs": [],
   "source": [
    "input_paths = [f\"{base_unique_path}{i}/\" for i in DUMPS]\n",
    "unique_id_df = read_any_path(spark, ','.join(input_paths), config)"
   ]
  },
  {
   "cell_type": "code",
   "execution_count": null,
   "id": "c0dc5088-7528-4495-af62-176cc10379b4",
   "metadata": {
    "execution": {
     "execution_failed": "2025-04-25T10:32:44.641Z"
    }
   },
   "outputs": [],
   "source": [
    "unique_schema = StructType([\n",
    "    StructField(\"track_id\", StringType(), True),\n",
    "])\n",
    "\n",
    "dump_ods_df_with_struct = unique_id_df.withColumn(\"jsocn_strut\", from_json(unique_id_df.value, unique_schema))\n",
    "unique_id_v_df = dump_ods_df_with_struct.select(\"json_struct.*\")"
   ]
  },
  {
   "cell_type": "code",
   "execution_count": null,
   "id": "903c4560-a5a4-4b02-8039-326a2fec37e0",
   "metadata": {
    "execution": {
     "execution_failed": "2025-04-25T10:32:44.641Z"
    }
   },
   "outputs": [],
   "source": [
    "inner_df = dump_html_df.join(unique_id_v_df, on='track_id', how='inner')"
   ]
  },
  {
   "cell_type": "markdown",
   "id": "ff889c66-6c1d-4160-9704-f26f085c01d6",
   "metadata": {},
   "source": [
    "# write gz"
   ]
  },
  {
   "cell_type": "code",
   "execution_count": null,
   "id": "8234de52-3b83-442c-9039-76959b38f7c9",
   "metadata": {
    "execution": {
     "iopub.execute_input": "2025-02-03T07:27:31.218856Z",
     "iopub.status.busy": "2025-02-03T07:27:31.218575Z",
     "iopub.status.idle": "2025-02-03T07:27:31.234740Z",
     "shell.execute_reply": "2025-02-03T07:27:31.234249Z",
     "shell.execute_reply.started": "2025-02-03T07:27:31.218838Z"
    }
   },
   "outputs": [],
   "source": [
    "output_df = inner_df.select(\"value\")"
   ]
  },
  {
   "cell_type": "code",
   "execution_count": null,
   "id": "67797c2a-19d5-4a7e-b98d-1bb96a43bfd7",
   "metadata": {
    "execution": {
     "iopub.execute_input": "2025-02-03T04:35:05.291642Z",
     "iopub.status.busy": "2025-02-03T04:35:05.291371Z",
     "iopub.status.idle": "2025-02-03T06:25:09.748760Z",
     "shell.execute_reply": "2025-02-03T06:25:09.748256Z",
     "shell.execute_reply.started": "2025-02-03T04:35:05.291626Z"
    }
   },
   "outputs": [],
   "source": [
    "config[\"skip_output_version\"] = True\n",
    "config[\"output_compression\"] = \"gz\"\n",
    "write_any_path(output_df, output_path, config)"
   ]
  },
  {
   "cell_type": "code",
   "execution_count": null,
   "id": "697a3eae-a6e1-4815-9697-5783d77ba29b",
   "metadata": {},
   "outputs": [],
   "source": []
  }
 ],
 "metadata": {
  "kernelspec": {
   "display_name": "Python 3.10 (ipykernel)",
   "language": "python",
   "name": "python3.10"
  },
  "language_info": {
   "codemirror_mode": {
    "name": "ipython",
    "version": 3
   },
   "file_extension": ".py",
   "mimetype": "text/x-python",
   "name": "python",
   "nbconvert_exporter": "python",
   "pygments_lexer": "ipython3",
   "version": "3.10.9"
  }
 },
 "nbformat": 4,
 "nbformat_minor": 5
}
