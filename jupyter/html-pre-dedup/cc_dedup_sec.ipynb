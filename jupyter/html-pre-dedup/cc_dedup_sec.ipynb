{
 "cells": [
  {
   "cell_type": "code",
   "execution_count": null,
   "id": "6a86ea9b-beca-4324-b101-5684b3ed0955",
   "metadata": {
    "execution": {
     "iopub.execute_input": "2025-04-25T07:54:27.433409Z",
     "iopub.status.busy": "2025-04-25T07:54:27.433041Z",
     "iopub.status.idle": "2025-04-25T07:54:39.114913Z",
     "shell.execute_reply": "2025-04-25T07:54:39.114213Z",
     "shell.execute_reply.started": "2025-04-25T07:54:27.433388Z"
    }
   },
   "outputs": [],
   "source": [
    "from xinghe.spark import *\n",
    "from app.common.json_util import *\n",
    "from xinghe.s3 import *\n",
    "\n",
    "config = {\n",
    "    \"spark_conf_name\": \"spark_4\",\n",
    "    \"skip_success_check\": True,\n",
    "}\n",
    "\n",
    "from itertools import groupby\n",
    "from operator import itemgetter\n",
    "from pyspark.sql.functions import from_json, to_json, struct, col\n",
    "from pyspark.sql.types import StructType, StructField, StringType\n",
    "\n",
    "DUMPS = [\n",
    "    ...\n",
    "]\n",
    "MAX_OUTPUT_ROW_SIZE = 1024 * 1024 * 1024 * 1.5\n",
    "base_input_path = f\"s3a://xxx/\"\n",
    "already_exist_id_path = \"s3://xxx/\"\n",
    "output_path = \"s3://xxx/\"\n",
    "spark = new_spark_session(\"cc_dumps.dedup.sec\", config)\n",
    "sc = spark.sparkContext"
   ]
  },
  {
   "cell_type": "markdown",
   "id": "d61f7baa-669f-43ed-8597-dbe17ffb6e6f",
   "metadata": {},
   "source": [
    "# 未去重的hash data"
   ]
  },
  {
   "cell_type": "code",
   "execution_count": null,
   "id": "c593add8-6678-43ae-9bca-8fae5d5d70a3",
   "metadata": {
    "execution": {
     "iopub.execute_input": "2025-04-25T07:54:39.146127Z",
     "iopub.status.busy": "2025-04-25T07:54:39.145279Z",
     "iopub.status.idle": "2025-04-25T07:54:39.152579Z",
     "shell.execute_reply": "2025-04-25T07:54:39.152019Z",
     "shell.execute_reply.started": "2025-04-25T07:54:39.146096Z"
    }
   },
   "outputs": [],
   "source": [
    "dump_paths = []\n",
    "for dump in DUMPS:\n",
    "    input_path = f\"{base_input_path}{dump}\"\n",
    "    dump_paths.append(input_path)"
   ]
  },
  {
   "cell_type": "code",
   "execution_count": null,
   "id": "a0b5d748-af2d-4d91-8162-59b0bf6a8b69",
   "metadata": {
    "execution": {
     "iopub.execute_input": "2025-04-25T07:54:39.153953Z",
     "iopub.status.busy": "2025-04-25T07:54:39.153802Z",
     "iopub.status.idle": "2025-04-25T07:57:41.861896Z",
     "shell.execute_reply": "2025-04-25T07:57:41.861011Z",
     "shell.execute_reply.started": "2025-04-25T07:54:39.153940Z"
    }
   },
   "outputs": [],
   "source": [
    "input_df = spark.read.format(\"json\").load(dump_paths)"
   ]
  },
  {
   "cell_type": "markdown",
   "id": "e1cb8715-6052-4589-87e9-d89f6414fc73",
   "metadata": {},
   "source": [
    "# 已去重的ID"
   ]
  },
  {
   "cell_type": "code",
   "execution_count": null,
   "id": "92043e9e-a936-41a5-b914-47160a6b9043",
   "metadata": {
    "execution": {
     "iopub.execute_input": "2025-04-25T07:57:41.863420Z",
     "iopub.status.busy": "2025-04-25T07:57:41.863247Z",
     "iopub.status.idle": "2025-04-25T08:04:55.067717Z",
     "shell.execute_reply": "2025-04-25T08:04:55.066825Z",
     "shell.execute_reply.started": "2025-04-25T07:57:41.863403Z"
    }
   },
   "outputs": [],
   "source": [
    "already_exist_id_v_df = read_any_path(spark, already_exist_id_path, config)"
   ]
  },
  {
   "cell_type": "code",
   "execution_count": null,
   "id": "90522101-aae7-460d-b1a3-23ec16ab44df",
   "metadata": {
    "execution": {
     "iopub.execute_input": "2025-04-25T08:04:55.069168Z",
     "iopub.status.busy": "2025-04-25T08:04:55.068981Z",
     "iopub.status.idle": "2025-04-25T08:04:55.223173Z",
     "shell.execute_reply": "2025-04-25T08:04:55.222285Z",
     "shell.execute_reply.started": "2025-04-25T08:04:55.069150Z"
    }
   },
   "outputs": [],
   "source": [
    "# 定义 Schema\n",
    "schema = StructType([\n",
    "    StructField(\"hash_html\", StringType(), True),\n",
    "    StructField(\"sub_path\", StringType(), True),\n",
    "])\n",
    "df_with_struct = already_exist_id_v_df.withColumn(\"json_struct\", from_json(already_exist_id_v_df.value, schema))\n",
    "already_exist_id_df = df_with_struct.select(\"json_struct.hash_html\", col(\"json_struct.sub_path\").alias(\"sub_path_exist\"))"
   ]
  },
  {
   "cell_type": "markdown",
   "id": "968593e6-550c-4a18-8745-12eb4b8246ce",
   "metadata": {},
   "source": [
    "# filter 历史未去重的剩余id"
   ]
  },
  {
   "cell_type": "code",
   "execution_count": null,
   "id": "8efab25d-5f75-4f73-9a95-6681fd904395",
   "metadata": {
    "execution": {
     "iopub.execute_input": "2025-04-25T08:04:55.225065Z",
     "iopub.status.busy": "2025-04-25T08:04:55.224885Z",
     "iopub.status.idle": "2025-04-25T08:40:50.086052Z",
     "shell.execute_reply": "2025-04-25T08:40:50.085226Z",
     "shell.execute_reply.started": "2025-04-25T08:04:55.225046Z"
    }
   },
   "outputs": [],
   "source": [
    "join_df = input_df.join(already_exist_id_df, on=\"hash_html\", how=\"left\")\n",
    "undedup_id_df = join_df.filter(col(\"sub_path_exist\").isNull()).select([\"track_id\", \"sub_path\", \"hash_html\"])"
   ]
  },
  {
   "cell_type": "markdown",
   "id": "c73b1b0f-01d8-4e34-be57-234889486ca6",
   "metadata": {
    "execution": {
     "iopub.execute_input": "2024-12-17T02:52:53.668493Z",
     "iopub.status.busy": "2024-12-17T02:52:53.668115Z",
     "iopub.status.idle": "2024-12-17T02:52:53.727246Z",
     "shell.execute_reply": "2024-12-17T02:52:53.726736Z",
     "shell.execute_reply.started": "2024-12-17T02:52:53.668472Z"
    },
    "scrolled": true
   },
   "source": [
    "# 分区去重-->全局去重"
   ]
  },
  {
   "cell_type": "code",
   "execution_count": null,
   "id": "90da0774-60e4-4c17-97b7-36c2a27cf326",
   "metadata": {
    "execution": {
     "iopub.execute_input": "2025-04-25T08:40:50.087637Z",
     "iopub.status.busy": "2025-04-25T08:40:50.087211Z",
     "iopub.status.idle": "2025-04-25T09:19:07.990695Z",
     "shell.execute_reply": "2025-04-25T09:19:07.989734Z",
     "shell.execute_reply.started": "2025-04-25T08:40:50.087608Z"
    }
   },
   "outputs": [],
   "source": [
    "def deduplicate_partition(partition):\n",
    "    sorted_partition = sorted(partition, key=itemgetter('hash_html'))\n",
    "    return (next(group) for _, group in groupby(sorted_partition, key=itemgetter('hash_html')))\n",
    "dedup_part_df = undedup_id_df.rdd.mapPartitions(deduplicate_partition).toDF(undedup_id_df.schema)"
   ]
  },
  {
   "cell_type": "code",
   "execution_count": null,
   "id": "f29512c4-eb4a-433f-84c6-05af75f4fc56",
   "metadata": {
    "execution": {
     "iopub.execute_input": "2025-04-25T09:19:07.992398Z",
     "iopub.status.busy": "2025-04-25T09:19:07.991998Z",
     "iopub.status.idle": "2025-04-25T09:26:22.593043Z",
     "shell.execute_reply": "2025-04-25T09:26:22.592114Z",
     "shell.execute_reply.started": "2025-04-25T09:19:07.992377Z"
    }
   },
   "outputs": [],
   "source": [
    "dedup_df = dedup_part_df.dropDuplicates([\"hash_html\"])"
   ]
  },
  {
   "cell_type": "markdown",
   "id": "ff889c66-6c1d-4160-9704-f26f085c01d6",
   "metadata": {},
   "source": [
    "# 写出s3"
   ]
  },
  {
   "cell_type": "code",
   "execution_count": null,
   "id": "480ad3b5-93c2-4ec5-8a7b-c0b5c6474fa6",
   "metadata": {
    "execution": {
     "iopub.execute_input": "2025-04-25T09:26:22.609121Z",
     "iopub.status.busy": "2025-04-25T09:26:22.608653Z",
     "iopub.status.idle": "2025-04-25T09:26:22.641888Z",
     "shell.execute_reply": "2025-04-25T09:26:22.641315Z",
     "shell.execute_reply.started": "2025-04-25T09:26:22.609100Z"
    }
   },
   "outputs": [],
   "source": [
    "struct_col = struct(dedup_df[\"track_id\"],dedup_df[\"sub_path\"],dedup_df[\"hash_html\"],)\n",
    "output_df = dedup_df.withColumn(\"value\", to_json(struct_col)).select(\"value\")"
   ]
  },
  {
   "cell_type": "code",
   "execution_count": null,
   "id": "6a058b7f-6c11-4b34-9178-8d6c58bb3d3b",
   "metadata": {
    "execution": {
     "iopub.execute_input": "2025-04-25T09:26:22.642766Z",
     "iopub.status.busy": "2025-04-25T09:26:22.642622Z",
     "iopub.status.idle": "2025-04-25T09:59:13.305437Z",
     "shell.execute_reply": "2025-04-25T09:59:13.304628Z",
     "shell.execute_reply.started": "2025-04-25T09:26:22.642752Z"
    }
   },
   "outputs": [],
   "source": [
    "config[\"skip_output_version\"] = True\n",
    "config[\"output_compression\"] = \"gz\"\n",
    "write_any_path(output_df, output_path, config)"
   ]
  },
  {
   "cell_type": "code",
   "execution_count": null,
   "id": "1502e9f0-0b45-4f9b-aeb6-3463673b5c7b",
   "metadata": {},
   "outputs": [],
   "source": []
  }
 ],
 "metadata": {
  "kernelspec": {
   "display_name": "Python 3.10 (ipykernel)",
   "language": "python",
   "name": "python3.10"
  },
  "language_info": {
   "codemirror_mode": {
    "name": "ipython",
    "version": 3
   },
   "file_extension": ".py",
   "mimetype": "text/x-python",
   "name": "python",
   "nbconvert_exporter": "python",
   "pygments_lexer": "ipython3",
   "version": "3.10.9"
  }
 },
 "nbformat": 4,
 "nbformat_minor": 5
}
