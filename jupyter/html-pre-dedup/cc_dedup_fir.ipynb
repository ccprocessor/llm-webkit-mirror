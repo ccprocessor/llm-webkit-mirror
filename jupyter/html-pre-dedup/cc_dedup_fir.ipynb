{
 "cells": [
  {
   "cell_type": "code",
   "execution_count": null,
   "id": "6a86ea9b-beca-4324-b101-5684b3ed0955",
   "metadata": {
    "execution": {
     "iopub.execute_input": "2025-04-28T02:21:07.893806Z",
     "iopub.status.busy": "2025-04-28T02:21:07.893523Z",
     "iopub.status.idle": "2025-04-28T02:21:19.180935Z",
     "shell.execute_reply": "2025-04-28T02:21:19.180129Z",
     "shell.execute_reply.started": "2025-04-28T02:21:07.893790Z"
    }
   },
   "outputs": [],
   "source": [
    "from pyspark.sql import Row\n",
    "from xinghe.spark import *\n",
    "from app.common.json_util import *\n",
    "from xinghe.s3 import *\n",
    "\n",
    "config = {\n",
    "    \"spark_conf_name\": \"spark_4\",\n",
    "    \"skip_success_check\": True,\n",
    "}\n",
    "from pyspark.sql.types import StructType, StructField, StringType\n",
    "import re\n",
    "import hashlib\n",
    "from lxml.etree import HTML\n",
    "\n",
    "MAX_OUTPUT_ROW_SIZE = 1024 * 1024 * 1024 * 1.5\n",
    "DUMPS = [\n",
    "    ...\n",
    "]\n",
    "\n",
    "CC_WARC = 's3://xxx/'\n",
    "output_path = \"s3://xxx/\"\n",
    "spark = new_spark_session(\"cc_dumps.dedup.fir\", config)\n",
    "sc = spark.sparkContext"
   ]
  },
  {
   "cell_type": "markdown",
   "id": "d61f7baa-669f-43ed-8597-dbe17ffb6e6f",
   "metadata": {},
   "source": [
    "# html source"
   ]
  },
  {
   "cell_type": "code",
   "execution_count": null,
   "id": "b0846950-4d76-4446-b7a8-7eea3a097a32",
   "metadata": {
    "execution": {
     "iopub.execute_input": "2025-04-28T02:21:19.217067Z",
     "iopub.status.busy": "2025-04-28T02:21:19.216842Z",
     "iopub.status.idle": "2025-04-28T02:32:01.584069Z",
     "shell.execute_reply": "2025-04-28T02:32:01.583574Z",
     "shell.execute_reply.started": "2025-04-28T02:21:19.217052Z"
    }
   },
   "outputs": [],
   "source": [
    "# 获取 cc warc path list\n",
    "warc_paths = []\n",
    "for dump in DUMPS:\n",
    "    dump_path = f'{CC_WARC}{dump}/'\n",
    "    warc_paths.extend([x for x in list(list_s3_objects(dump_path, recursive=True)) if \"/warc/\" in x])\n"
   ]
  },
  {
   "cell_type": "code",
   "execution_count": null,
   "id": "4e659d5d-ce3e-4578-b525-b97d5d65b835",
   "metadata": {
    "editable": true,
    "execution": {
     "iopub.execute_input": "2025-04-28T02:32:01.585248Z",
     "iopub.status.busy": "2025-04-28T02:32:01.584870Z",
     "iopub.status.idle": "2025-04-28T02:32:01.589941Z",
     "shell.execute_reply": "2025-04-28T02:32:01.589505Z",
     "shell.execute_reply.started": "2025-04-28T02:32:01.585230Z"
    },
    "slideshow": {
     "slide_type": ""
    },
    "tags": []
   },
   "outputs": [],
   "source": [
    "def html_to_content(html_str: str, url: str) -> str:\n",
    "    if html_str.strip() and isinstance(html_str,str):\n",
    "        html_str = re.sub(r'<\\?[^>]*\\?>', '', html_str.strip())\n",
    "        try:\n",
    "            html_etree = HTML(html_str)\n",
    "        except:\n",
    "            return None\n",
    "        if html_etree:\n",
    "            for element in html_etree.xpath('//*[self::script or self::style]'):\n",
    "                element.getparent().remove(element)\n",
    "            text = ''.join(html_etree.xpath(\"//text()\"))\n",
    "            cleaned_text = re.sub(r'[^\\w\\s]', '', text, flags=re.UNICODE)\n",
    "            cleaned_text = re.sub(r'\\s+', '', cleaned_text).strip()\n",
    "            return sha256_hash(cleaned_text)\n",
    "\n",
    "def sha256_hash(string):\n",
    "    return hashlib.sha256(string.encode()).hexdigest()\n",
    "    \n",
    "def parse_path_to_html(iter):\n",
    "    seen = set()\n",
    "    for fpath in iter:\n",
    "        for zz in read_s3_rows(fpath):\n",
    "            detail_datas = json_loads(zz.value)\n",
    "            hash_html = html_to_content(detail_datas.get(\"html\"), detail_datas[\"url\"]) if detail_datas.get(\"html\", \"\") else None\n",
    "            if hash_html and hash_html not in seen:\n",
    "                seen.add(hash_html)\n",
    "                line = {\n",
    "                    \"sub_path\": fpath.split('/')[4],\n",
    "                    \"hash_html\": hash_html,\n",
    "                    \"track_id\": detail_datas[\"track_id\"],\n",
    "                }\n",
    "                yield Row(**{\"value\": json_dumps(line)})"
   ]
  },
  {
   "cell_type": "code",
   "execution_count": null,
   "id": "07f785ee-b51b-4f6b-a9da-8abd7286c1d0",
   "metadata": {
    "execution": {
     "iopub.execute_input": "2025-04-28T02:32:01.591272Z",
     "iopub.status.busy": "2025-04-28T02:32:01.590889Z",
     "iopub.status.idle": "2025-04-28T04:12:44.895573Z",
     "shell.execute_reply": "2025-04-28T04:12:44.894960Z",
     "shell.execute_reply.started": "2025-04-28T02:32:01.591255Z"
    }
   },
   "outputs": [],
   "source": [
    "# mapPartitions 对 warc path 并行解析数据\n",
    "schema = StructType([\n",
    "    StructField(\"value\", StringType(), True),\n",
    "])\n",
    "page_content = sc.parallelize(warc_paths, len(warc_paths))\n",
    "dump_html_df = page_content.mapPartitions(parse_path_to_html).toDF(schema)"
   ]
  },
  {
   "cell_type": "markdown",
   "id": "ff889c66-6c1d-4160-9704-f26f085c01d6",
   "metadata": {},
   "source": [
    "# 写出s3"
   ]
  },
  {
   "cell_type": "code",
   "execution_count": null,
   "id": "6a058b7f-6c11-4b34-9178-8d6c58bb3d3b",
   "metadata": {
    "execution": {
     "iopub.execute_input": "2025-04-24T03:43:00.145735Z",
     "iopub.status.busy": "2025-04-24T03:43:00.145323Z",
     "iopub.status.idle": "2025-04-24T08:01:20.893351Z",
     "shell.execute_reply": "2025-04-24T08:01:20.892740Z",
     "shell.execute_reply.started": "2025-04-24T03:43:00.145716Z"
    }
   },
   "outputs": [],
   "source": [
    "config[\"skip_output_version\"] = True\n",
    "config[\"output_compression\"] = \"gz\"\n",
    "write_any_path(dump_html_df, output_path, config)"
   ]
  },
  {
   "cell_type": "code",
   "execution_count": null,
   "id": "697a3eae-a6e1-4815-9697-5783d77ba29b",
   "metadata": {},
   "outputs": [],
   "source": []
  }
 ],
 "metadata": {
  "kernelspec": {
   "display_name": "Python 3.10 (ipykernel)",
   "language": "python",
   "name": "python3.10"
  },
  "language_info": {
   "codemirror_mode": {
    "name": "ipython",
    "version": 3
   },
   "file_extension": ".py",
   "mimetype": "text/x-python",
   "name": "python",
   "nbconvert_exporter": "python",
   "pygments_lexer": "ipython3",
   "version": "3.10.9"
  }
 },
 "nbformat": 4,
 "nbformat_minor": 5
}
