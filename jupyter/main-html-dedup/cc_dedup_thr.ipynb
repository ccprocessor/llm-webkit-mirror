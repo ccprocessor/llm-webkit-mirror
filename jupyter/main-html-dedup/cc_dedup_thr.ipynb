{
 "cells": [
  {
   "cell_type": "code",
   "execution_count": null,
   "id": "0",
   "metadata": {
    "execution": {
     "iopub.execute_input": "2025-07-11T02:33:35.144247Z",
     "iopub.status.busy": "2025-07-11T02:33:35.143737Z",
     "iopub.status.idle": "2025-07-11T02:33:39.656321Z",
     "shell.execute_reply": "2025-07-11T02:33:39.655539Z",
     "shell.execute_reply.started": "2025-07-11T02:33:35.144222Z"
    }
   },
   "outputs": [],
   "source": [
    "from pyspark.sql import Row\n",
    "from xinghe.spark import *\n",
    "from app.common.json_util import *\n",
    "from xinghe.s3 import *\n",
    "\n",
    "config = {\n",
    "    \"spark_conf_name\": \"spark_4\",\n",
    "    \"skip_success_check\": True,\n",
    "}\n",
    "\n",
    "from pyspark.sql.functions import from_json\n",
    "from pyspark.sql.types import StructType, StructField, StringType\n",
    "import zlib\n",
    "import base64\n",
    "from typing import Union\n",
    "\n",
    "MAX_OUTPUT_ROW_SIZE = 1024 * 1024 * 1024 * 1.5\n",
    "CC_WARC = ['xx']\n",
    "base_unique_path = [\"xx\"]\n",
    "output_path = \"xx\"\n",
    "\n",
    "spark = new_spark_session(\"cc_dumps.dedup.thr\", config)\n",
    "sc = spark.sparkContext"
   ]
  },
  {
   "cell_type": "code",
   "execution_count": null,
   "id": "1",
   "metadata": {
    "execution": {
     "iopub.execute_input": "2025-07-11T02:33:39.658063Z",
     "iopub.status.busy": "2025-07-11T02:33:39.657698Z",
     "iopub.status.idle": "2025-07-11T02:33:39.664142Z",
     "shell.execute_reply": "2025-07-11T02:33:39.663584Z",
     "shell.execute_reply.started": "2025-07-11T02:33:39.658042Z"
    }
   },
   "outputs": [],
   "source": [
    "def compress_and_decompress_str(input_data: Union[str, bytes], compress: bool = True, base: bool = False) -> Union[str, bytes]:\n",
    "    try:\n",
    "        if compress:\n",
    "            # 确保输入是字节串\n",
    "            if isinstance(input_data, str):\n",
    "                input_bytes = input_data.encode('utf-8')\n",
    "            elif isinstance(input_data, bytes):\n",
    "                input_bytes = input_data\n",
    "            else:\n",
    "                raise TypeError(\"Input must be a string or bytes object.\")\n",
    "\n",
    "            if base:\n",
    "                # 压缩并转换为Base64字符串\n",
    "                compressed_bytes = zlib.compress(input_bytes)\n",
    "                return base64.b64encode(compressed_bytes).decode('utf-8')\n",
    "            else:\n",
    "                return zlib.compress(input_bytes)\n",
    "                \n",
    "        else:\n",
    "            # 解码Base64字符串并解压缩\n",
    "            if isinstance(input_data, str):\n",
    "                compressed_bytes = base64.b64decode(input_data)\n",
    "            elif isinstance(input_data, bytearray):\n",
    "                compressed_bytes = bytes(input_data)\n",
    "            elif isinstance(input_data, bytes):\n",
    "                compressed_bytes = input_data\n",
    "            else:\n",
    "                raise TypeError(\"Input must be a Base64 encoded string or bytes object.\")\n",
    "\n",
    "            decompressed_bytes = zlib.decompress(compressed_bytes)\n",
    "            return decompressed_bytes.decode('utf-8')  # 假设原始数据是UTF-8编码的字符串\n",
    "\n",
    "    except (zlib.error, base64.binascii.Error, UnicodeDecodeError) as e:\n",
    "        raise ValueError(f\"Error during compression/decompression: {e}\")\n",
    "\n"
   ]
  },
  {
   "cell_type": "markdown",
   "id": "2",
   "metadata": {},
   "source": [
    "# html source"
   ]
  },
  {
   "cell_type": "code",
   "execution_count": null,
   "id": "3",
   "metadata": {
    "execution": {
     "iopub.execute_input": "2025-07-10T07:57:45.974687Z",
     "iopub.status.busy": "2025-07-10T07:57:45.974520Z",
     "iopub.status.idle": "2025-07-10T07:57:45.989495Z",
     "shell.execute_reply": "2025-07-10T07:57:45.989056Z",
     "shell.execute_reply.started": "2025-07-10T07:57:45.974663Z"
    }
   },
   "outputs": [],
   "source": [
    "#warc_paths = []\n",
    "#for dump in DUMPS:\n",
    "#    dump_path = f'{CC_WARC}{dump}/'\n",
    "#    warc_paths.extend([x for x in list(list_s3_objects(dump_path, recursive=True)) if \"/warc/\" in x])\n"
   ]
  },
  {
   "cell_type": "code",
   "execution_count": null,
   "id": "4",
   "metadata": {
    "execution": {
     "iopub.execute_input": "2025-07-11T02:33:42.921082Z",
     "iopub.status.busy": "2025-07-11T02:33:42.920630Z",
     "iopub.status.idle": "2025-07-11T02:33:42.925435Z",
     "shell.execute_reply": "2025-07-11T02:33:42.924811Z",
     "shell.execute_reply.started": "2025-07-11T02:33:42.921062Z"
    }
   },
   "outputs": [],
   "source": [
    "def parse_path_to_html(row_iter):\n",
    "    for row in row_iter:\n",
    "        try:\n",
    "            detail_datas = json_loads(row.value)\n",
    "        except:\n",
    "            continue\n",
    "        track_id = detail_datas.get(\"track_id\", \"\")\n",
    "        #filename = zz.loc\n",
    "        if detail_datas.get(\"main_html\", \"\"):\n",
    "            #detail_datas[\"raw_warc_path\"] = filename\n",
    "            #fpath_path = fpath.split('/')\n",
    "            #detail_datas[\"sub_path\"] = f\"{fpath_path[4]}/{fpath_path[-1].replace('.warc.gz', '')}\"\n",
    "            yield Row(**{\"value\": json_dumps(detail_datas), \"track_id\": track_id})"
   ]
  },
  {
   "cell_type": "code",
   "execution_count": null,
   "id": "5",
   "metadata": {
    "execution": {
     "iopub.execute_input": "2025-07-11T02:33:45.928164Z",
     "iopub.status.busy": "2025-07-11T02:33:45.927709Z",
     "iopub.status.idle": "2025-07-11T02:34:04.775752Z",
     "shell.execute_reply": "2025-07-11T02:34:04.774904Z",
     "shell.execute_reply.started": "2025-07-11T02:33:45.928146Z"
    }
   },
   "outputs": [],
   "source": [
    "html_schema = StructType([\n",
    "    StructField(\"track_id\", StringType(), True),\n",
    "    StructField(\"value\", StringType(), True),\n",
    "])\n",
    "#page_content = sc.parallelize(warc_paths, len(warc_paths))\n",
    "CC_WARC_df = read_any_path(spark, \",\".join(CC_WARC), config)\n",
    "\n",
    "dump_html_df = CC_WARC_df.rdd.mapPartitions(parse_path_to_html).toDF()"
   ]
  },
  {
   "cell_type": "markdown",
   "id": "6",
   "metadata": {},
   "source": [
    "# unique id"
   ]
  },
  {
   "cell_type": "code",
   "execution_count": null,
   "id": "7",
   "metadata": {
    "execution": {
     "iopub.execute_input": "2025-07-11T02:34:04.777467Z",
     "iopub.status.busy": "2025-07-11T02:34:04.777093Z",
     "iopub.status.idle": "2025-07-11T02:34:06.317861Z",
     "shell.execute_reply": "2025-07-11T02:34:06.317261Z",
     "shell.execute_reply.started": "2025-07-11T02:34:04.777448Z"
    }
   },
   "outputs": [],
   "source": [
    "unique_id_df = read_any_path(spark, ','.join(base_unique_path), config)"
   ]
  },
  {
   "cell_type": "code",
   "execution_count": null,
   "id": "8",
   "metadata": {
    "execution": {
     "iopub.execute_input": "2025-07-11T02:34:06.318713Z",
     "iopub.status.busy": "2025-07-11T02:34:06.318557Z",
     "iopub.status.idle": "2025-07-11T02:34:06.335284Z",
     "shell.execute_reply": "2025-07-11T02:34:06.334747Z",
     "shell.execute_reply.started": "2025-07-11T02:34:06.318698Z"
    }
   },
   "outputs": [],
   "source": [
    "unique_schema = StructType([\n",
    "    StructField(\"track_id\", StringType(), True),\n",
    "])\n",
    "\n",
    "dump_ods_df_with_struct = unique_id_df.withColumn(\"json_struct\", from_json(unique_id_df.value, unique_schema))\n",
    "unique_id_v_df = dump_ods_df_with_struct.select(\"json_struct.*\")"
   ]
  },
  {
   "cell_type": "code",
   "execution_count": null,
   "id": "9",
   "metadata": {
    "execution": {
     "iopub.execute_input": "2025-07-11T02:34:06.336954Z",
     "iopub.status.busy": "2025-07-11T02:34:06.336556Z",
     "iopub.status.idle": "2025-07-11T02:34:06.346453Z",
     "shell.execute_reply": "2025-07-11T02:34:06.345908Z",
     "shell.execute_reply.started": "2025-07-11T02:34:06.336936Z"
    }
   },
   "outputs": [],
   "source": [
    "inner_df = dump_html_df.join(unique_id_v_df, on='track_id', how='inner')"
   ]
  },
  {
   "cell_type": "markdown",
   "id": "10",
   "metadata": {},
   "source": [
    "# write gz"
   ]
  },
  {
   "cell_type": "code",
   "execution_count": null,
   "id": "11",
   "metadata": {
    "execution": {
     "iopub.execute_input": "2025-07-11T02:34:06.347246Z",
     "iopub.status.busy": "2025-07-11T02:34:06.347105Z",
     "iopub.status.idle": "2025-07-11T02:34:06.355844Z",
     "shell.execute_reply": "2025-07-11T02:34:06.355296Z",
     "shell.execute_reply.started": "2025-07-11T02:34:06.347233Z"
    }
   },
   "outputs": [],
   "source": [
    "output_df = inner_df.select(\"value\")"
   ]
  },
  {
   "cell_type": "code",
   "execution_count": null,
   "id": "12",
   "metadata": {
    "execution": {
     "iopub.execute_input": "2025-07-11T02:34:06.356637Z",
     "iopub.status.busy": "2025-07-11T02:34:06.356500Z",
     "iopub.status.idle": "2025-07-11T02:34:42.955189Z",
     "shell.execute_reply": "2025-07-11T02:34:42.954536Z",
     "shell.execute_reply.started": "2025-07-11T02:34:06.356624Z"
    }
   },
   "outputs": [],
   "source": [
    "config[\"skip_output_version\"] = True\n",
    "config[\"output_compression\"] = \"gz\"\n",
    "write_any_path(output_df, output_path, config)"
   ]
  }
 ],
 "metadata": {
  "kernelspec": {
   "display_name": "Python 3.10 (ipykernel)",
   "language": "python",
   "name": "python3.10"
  },
  "language_info": {
   "codemirror_mode": {
    "name": "ipython",
    "version": 3
   },
   "file_extension": ".py",
   "mimetype": "text/x-python",
   "name": "python",
   "nbconvert_exporter": "python",
   "pygments_lexer": "ipython3",
   "version": "3.10.9"
  }
 },
 "nbformat": 4,
 "nbformat_minor": 5
}
