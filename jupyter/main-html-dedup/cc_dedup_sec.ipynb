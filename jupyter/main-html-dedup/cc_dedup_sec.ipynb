{
 "cells": [
  {
   "cell_type": "code",
   "execution_count": null,
   "id": "0",
   "metadata": {
    "execution": {
     "iopub.status.idle": "2025-07-11T02:26:43.748017Z",
     "shell.execute_reply": "2025-07-11T02:26:43.747366Z",
     "shell.execute_reply.started": "2025-07-11T02:26:34.645411Z"
    }
   },
   "outputs": [],
   "source": [
    "from xinghe.spark import *\n",
    "from app.common.json_util import *\n",
    "from xinghe.s3 import *\n",
    "\n",
    "config = {\n",
    "    \"spark_conf_name\": \"spark_4\",\n",
    "    \"skip_success_check\": True,\n",
    "}\n",
    "\n",
    "from itertools import groupby\n",
    "from operator import itemgetter\n",
    "from pyspark.sql.functions import from_json, to_json, struct, col\n",
    "from pyspark.sql.types import StructType, StructField, StringType\n",
    "\n",
    "DUMPS = [\n",
    "    ...\n",
    "]\n",
    "MAX_OUTPUT_ROW_SIZE = 1024 * 1024 * 1024 * 1.5\n",
    "base_input_path = [\"xx\"]\n",
    "#already_exist_id_path = \"s3://xxx/\"\n",
    "output_path = \"xx\"\n",
    "spark = new_spark_session(\"cc_dumps.dedup.sec\", config)\n",
    "sc = spark.sparkContext"
   ]
  },
  {
   "cell_type": "markdown",
   "id": "1",
   "metadata": {},
   "source": [
    "# 未去重的hash data"
   ]
  },
  {
   "cell_type": "code",
   "execution_count": null,
   "id": "2",
   "metadata": {
    "execution": {
     "iopub.execute_input": "2025-07-11T02:26:43.749268Z",
     "iopub.status.busy": "2025-07-11T02:26:43.748929Z",
     "iopub.status.idle": "2025-07-11T02:26:43.751756Z",
     "shell.execute_reply": "2025-07-11T02:26:43.751304Z",
     "shell.execute_reply.started": "2025-07-11T02:26:43.749250Z"
    }
   },
   "outputs": [],
   "source": [
    "#dump_paths = []\n",
    "#for dump in DUMPS:\n",
    "#    input_path = f\"{base_input_path}{dump}\"\n",
    "#    dump_paths.append(input_path)"
   ]
  },
  {
   "cell_type": "code",
   "execution_count": null,
   "id": "3",
   "metadata": {
    "execution": {
     "iopub.execute_input": "2025-07-11T02:26:43.752632Z",
     "iopub.status.busy": "2025-07-11T02:26:43.752346Z",
     "iopub.status.idle": "2025-07-11T02:26:43.762655Z",
     "shell.execute_reply": "2025-07-11T02:26:43.762229Z",
     "shell.execute_reply.started": "2025-07-11T02:26:43.752617Z"
    }
   },
   "outputs": [],
   "source": [
    "#input_df = spark.read.format(\"json\").load(dump_paths)"
   ]
  },
  {
   "cell_type": "markdown",
   "id": "4",
   "metadata": {},
   "source": [
    "# 已去重的ID"
   ]
  },
  {
   "cell_type": "code",
   "execution_count": null,
   "id": "5",
   "metadata": {
    "execution": {
     "iopub.execute_input": "2025-07-11T02:26:43.763518Z",
     "iopub.status.busy": "2025-07-11T02:26:43.763240Z",
     "iopub.status.idle": "2025-07-11T02:26:43.770017Z",
     "shell.execute_reply": "2025-07-11T02:26:43.769479Z",
     "shell.execute_reply.started": "2025-07-11T02:26:43.763503Z"
    }
   },
   "outputs": [],
   "source": [
    "#already_exist_id_v_df = read_any_path(spark, already_exist_id_path, config)"
   ]
  },
  {
   "cell_type": "code",
   "execution_count": null,
   "id": "6",
   "metadata": {
    "execution": {
     "iopub.execute_input": "2025-07-11T02:26:43.772007Z",
     "iopub.status.busy": "2025-07-11T02:26:43.771594Z",
     "iopub.status.idle": "2025-07-11T02:26:43.776268Z",
     "shell.execute_reply": "2025-07-11T02:26:43.775843Z",
     "shell.execute_reply.started": "2025-07-11T02:26:43.771991Z"
    }
   },
   "outputs": [],
   "source": [
    "# 定义 Schema\n",
    "#schema = StructType([\n",
    "#    StructField(\"hash_html\", StringType(), True),\n",
    "#    StructField(\"sub_path\", StringType(), True),\n",
    "#])\n",
    "#df_with_struct = already_exist_id_v_df.withColumn(\"json_struct\", from_json(already_exist_id_v_df.value, schema))\n",
    "#already_exist_id_df = df_with_struct.select(\"json_struct.hash_html\", col(\"json_struct.sub_path\").alias(\"sub_path_exist\"))"
   ]
  },
  {
   "cell_type": "markdown",
   "id": "7",
   "metadata": {},
   "source": [
    "# filter 历史未去重的剩余id"
   ]
  },
  {
   "cell_type": "code",
   "execution_count": null,
   "id": "8",
   "metadata": {
    "execution": {
     "iopub.execute_input": "2025-07-11T02:26:43.776944Z",
     "iopub.status.busy": "2025-07-11T02:26:43.776805Z",
     "iopub.status.idle": "2025-07-11T02:26:43.784766Z",
     "shell.execute_reply": "2025-07-11T02:26:43.784336Z",
     "shell.execute_reply.started": "2025-07-11T02:26:43.776931Z"
    }
   },
   "outputs": [],
   "source": [
    "#join_df = input_df.join(already_exist_id_df, on=\"hash_html\", how=\"left\")\n",
    "#undedup_id_df = join_df.filter(col(\"sub_path_exist\").isNull()).select([\"track_id\", \"sub_path\", \"hash_html\"])"
   ]
  },
  {
   "cell_type": "markdown",
   "id": "9",
   "metadata": {},
   "source": [
    "# 分区去重-->全局去重"
   ]
  },
  {
   "cell_type": "code",
   "execution_count": null,
   "id": "da837b3e-5eee-43b1-9c77-836aac1203df",
   "metadata": {
    "execution": {
     "iopub.execute_input": "2025-07-11T02:26:43.785611Z",
     "iopub.status.busy": "2025-07-11T02:26:43.785331Z",
     "iopub.status.idle": "2025-07-11T02:27:13.606489Z",
     "shell.execute_reply": "2025-07-11T02:27:13.605744Z",
     "shell.execute_reply.started": "2025-07-11T02:26:43.785596Z"
    }
   },
   "outputs": [],
   "source": [
    "input_df = read_any_path(spark, \",\".join(base_input_path), config)"
   ]
  },
  {
   "cell_type": "code",
   "execution_count": null,
   "id": "20135ae2-b1d0-43c9-b241-8d23de94f01d",
   "metadata": {
    "execution": {
     "iopub.execute_input": "2025-07-11T02:27:13.608658Z",
     "iopub.status.busy": "2025-07-11T02:27:13.607902Z",
     "iopub.status.idle": "2025-07-11T02:27:13.612633Z",
     "shell.execute_reply": "2025-07-11T02:27:13.611707Z",
     "shell.execute_reply.started": "2025-07-11T02:27:13.608633Z"
    }
   },
   "outputs": [],
   "source": [
    "def json_data(row_iter)->Row:\n",
    "    for row in row_iter:\n",
    "        data = json_loads(row.value)\n",
    "        yield data"
   ]
  },
  {
   "cell_type": "code",
   "execution_count": null,
   "id": "0c0435c3-bd5e-4571-ab29-90c522023dec",
   "metadata": {
    "execution": {
     "iopub.execute_input": "2025-07-11T02:27:13.614260Z",
     "iopub.status.busy": "2025-07-11T02:27:13.613866Z",
     "iopub.status.idle": "2025-07-11T02:27:17.465595Z",
     "shell.execute_reply": "2025-07-11T02:27:17.464788Z",
     "shell.execute_reply.started": "2025-07-11T02:27:13.614237Z"
    }
   },
   "outputs": [],
   "source": [
    "undedup_id_df = input_df.rdd.mapPartitions(json_data).toDF()"
   ]
  },
  {
   "cell_type": "code",
   "execution_count": null,
   "id": "10",
   "metadata": {
    "execution": {
     "iopub.execute_input": "2025-07-11T02:27:17.466995Z",
     "iopub.status.busy": "2025-07-11T02:27:17.466683Z",
     "iopub.status.idle": "2025-07-11T02:27:17.526987Z",
     "shell.execute_reply": "2025-07-11T02:27:17.526167Z",
     "shell.execute_reply.started": "2025-07-11T02:27:17.466977Z"
    }
   },
   "outputs": [],
   "source": [
    "def deduplicate_partition(partition):\n",
    "    sorted_partition = sorted(partition, key=itemgetter('hash_html'))\n",
    "    return (next(group) for _, group in groupby(sorted_partition, key=itemgetter('hash_html')))\n",
    "dedup_part_df = undedup_id_df.rdd.mapPartitions(deduplicate_partition).toDF(undedup_id_df.schema)"
   ]
  },
  {
   "cell_type": "code",
   "execution_count": null,
   "id": "11",
   "metadata": {
    "execution": {
     "iopub.execute_input": "2025-07-11T02:27:17.528440Z",
     "iopub.status.busy": "2025-07-11T02:27:17.528025Z",
     "iopub.status.idle": "2025-07-11T02:27:17.537970Z",
     "shell.execute_reply": "2025-07-11T02:27:17.537362Z",
     "shell.execute_reply.started": "2025-07-11T02:27:17.528418Z"
    }
   },
   "outputs": [],
   "source": [
    "dedup_df = dedup_part_df.dropDuplicates([\"hash_html\"])"
   ]
  },
  {
   "cell_type": "markdown",
   "id": "12",
   "metadata": {},
   "source": [
    "# 写出s3"
   ]
  },
  {
   "cell_type": "code",
   "execution_count": null,
   "id": "13",
   "metadata": {
    "execution": {
     "iopub.execute_input": "2025-07-11T02:27:17.539280Z",
     "iopub.status.busy": "2025-07-11T02:27:17.539112Z",
     "iopub.status.idle": "2025-07-11T02:27:17.581417Z",
     "shell.execute_reply": "2025-07-11T02:27:17.580614Z",
     "shell.execute_reply.started": "2025-07-11T02:27:17.539264Z"
    }
   },
   "outputs": [],
   "source": [
    "struct_col = struct(dedup_df[\"track_id\"],dedup_df[\"sub_path\"],dedup_df[\"hash_html\"],)\n",
    "output_df = dedup_df.withColumn(\"value\", to_json(struct_col)).select(\"value\")"
   ]
  },
  {
   "cell_type": "code",
   "execution_count": null,
   "id": "14",
   "metadata": {
    "execution": {
     "iopub.execute_input": "2025-07-11T02:27:17.582756Z",
     "iopub.status.busy": "2025-07-11T02:27:17.582439Z",
     "iopub.status.idle": "2025-07-11T02:28:54.423589Z",
     "shell.execute_reply": "2025-07-11T02:28:54.422850Z",
     "shell.execute_reply.started": "2025-07-11T02:27:17.582737Z"
    }
   },
   "outputs": [],
   "source": [
    "config[\"skip_output_version\"] = True\n",
    "config[\"output_compression\"] = \"gz\"\n",
    "write_any_path(output_df, output_path, config)"
   ]
  }
 ],
 "metadata": {
  "kernelspec": {
   "display_name": "Python 3.10 (ipykernel)",
   "language": "python",
   "name": "python3.10"
  },
  "language_info": {
   "codemirror_mode": {
    "name": "ipython",
    "version": 3
   },
   "file_extension": ".py",
   "mimetype": "text/x-python",
   "name": "python",
   "nbconvert_exporter": "python",
   "pygments_lexer": "ipython3",
   "version": "3.10.9"
  }
 },
 "nbformat": 4,
 "nbformat_minor": 5
}
